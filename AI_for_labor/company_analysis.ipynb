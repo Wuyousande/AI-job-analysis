{
 "cells": [
  {
   "cell_type": "code",
   "execution_count": 3,
   "id": "d76ed592",
   "metadata": {},
   "outputs": [
    {
     "name": "stdout",
     "output_type": "stream",
     "text": [
      "✅ 已写入：/Users/yinhaiyi/Desktop/all_companies_wide.xlsx（sheet: 300866）\n"
     ]
    }
   ],
   "source": [
    "import os\n",
    "from pathlib import Path\n",
    "import pandas as pd\n",
    "import numpy as np\n",
    "\n",
    "INPUT_FILE  = r\"/Users/yinhaiyi/Desktop/工作簿4.xlsx\"   # 原始长表\n",
    "SHEET_NAME  = \"Sheet1\"\n",
    "OUTPUT_FILE = r\"/Users/yinhaiyi/Desktop/all_companies_wide.xlsx\"\n",
    "\n",
    "CUSTOM_ORDER = [\"Symbol\", \"EndDate\", \"ShortName\", \"销售人员\", \"技术人员\", \"财务人员\", \"合计\"]\n",
    "\n",
    "def process_one_company(symbol_code: str,\n",
    "                        input_file=INPUT_FILE,\n",
    "                        sheet_name=SHEET_NAME,\n",
    "                        output_file=OUTPUT_FILE,\n",
    "                        replace_if_exists=True):\n",
    "    \"\"\"处理单个公司并把宽表追加到总Excel（sheet=公司代码）\"\"\"\n",
    "    sym = str(symbol_code).strip().zfill(6)\n",
    "\n",
    "    # 读取数据\n",
    "    df = pd.read_excel(input_file, sheet_name=sheet_name)\n",
    "\n",
    "    # 清理 Symbol\n",
    "    df[\"Symbol\"] = (df[\"Symbol\"].astype(str)\n",
    "                                .str.replace(r\"\\.0$\", \"\", regex=True)\n",
    "                                .str.replace(r\"[^\\d]\", \"\", regex=True)\n",
    "                                .str.zfill(6))\n",
    "\n",
    "    # 去除空格\n",
    "    for col in [\"EmployDetail\", \"ShortName\", \"EmployStructure\"]:\n",
    "        df[col] = df[col].astype(str).str.strip()\n",
    "\n",
    "    # 合并重复键\n",
    "    df = (df.groupby([\"Symbol\", \"EndDate\", \"ShortName\", \"EmployStructure\", \"EmployDetail\"],\n",
    "                     as_index=False)[\"Amount\"].sum())\n",
    "\n",
    "    # 只取该公司\n",
    "    sub = df[df[\"Symbol\"] == sym].copy()\n",
    "    if sub.empty:\n",
    "        raise SystemExit(f\"未找到公司 {sym} 的数据\")\n",
    "\n",
    "    # === 给列加前缀 ===\n",
    "    is_edu = sub[\"EmployStructure\"].str.contains(\"学\", na=False)\n",
    "    sub[\"DetailPrefixed\"] = np.where(is_edu,\n",
    "                                     \"edu_\" + sub[\"EmployDetail\"],\n",
    "                                     \"job_\" + sub[\"EmployDetail\"])\n",
    "\n",
    "    # 长转宽\n",
    "    wide = (sub.pivot_table(index=[\"Symbol\", \"EndDate\", \"ShortName\"],\n",
    "                            columns=\"DetailPrefixed\",\n",
    "                            values=\"Amount\",\n",
    "                            aggfunc=\"sum\")\n",
    "               .reset_index())\n",
    "    wide.columns.name = None\n",
    "\n",
    "    # 保存\n",
    "    if os.path.exists(output_file):\n",
    "        from openpyxl import load_workbook\n",
    "        wb = load_workbook(output_file)\n",
    "        if sym in wb.sheetnames and replace_if_exists:\n",
    "            wb.remove(wb[sym])\n",
    "            wb.save(output_file)\n",
    "        with pd.ExcelWriter(output_file, engine=\"openpyxl\", mode=\"a\", if_sheet_exists=\"new\") as w:\n",
    "            wide.to_excel(w, sheet_name=sym, index=False)\n",
    "    else:\n",
    "        with pd.ExcelWriter(output_file, engine=\"xlsxwriter\") as w:\n",
    "            wide.to_excel(w, sheet_name=sym, index=False)\n",
    "\n",
    "    print(f\"✅ 已写入：{output_file}（sheet: {sym}）\")\n",
    "\n",
    "# 测试\n",
    "process_one_company(\"300866\")"
   ]
  },
  {
   "cell_type": "code",
   "execution_count": 4,
   "id": "6893bc34",
   "metadata": {},
   "outputs": [
    {
     "name": "stdout",
     "output_type": "stream",
     "text": [
      "['002095', '002102', '002127', '002152', '002264', '002315', '002499', '002640', '002803', '002959', '003010', '300209', '300226', '300464', '300518', '300592', '300740', '300783', '300785', '300792', '300840', '300892', '300998', '301001', '301110', '301381', '301558', '600539', '601113', '603613', '603808', '605136', '300866']\n",
      "   Symbol     EndDate ShortName  edu_合计  edu_大专及以下  edu_大学本科  edu_本科  \\\n",
      "0  300866  2020-12-31      安克创新    2144        289       NaN  1447.0   \n",
      "1  300866  2021-12-31      安克创新    3532        401    2341.0     NaN   \n",
      "2  300866  2023-12-31      安克创新    4017        344       NaN  2738.0   \n",
      "3  300866  2024-12-31      安克创新    5034        159       NaN  3762.0   \n",
      "\n",
      "   edu_硕士及以上  job_合计  job_客服人员  job_市场人员  job_技术人员  job_生产人员  job_研发人员  \\\n",
      "0        408    2144     155.0     160.0       NaN       NaN    1010.0   \n",
      "1        790    3532     286.0     350.0       NaN       NaN    1605.0   \n",
      "2        935    4017       NaN       NaN    1918.0       0.0       NaN   \n",
      "3       1113    5034       NaN       NaN    2672.0       0.0       NaN   \n",
      "\n",
      "   job_职能人员  job_行政人员  job_财务人员  job_采购人员  job_销售人员  \n",
      "0     175.0       NaN       NaN       161       483  \n",
      "1     265.0       NaN       NaN       295       731  \n",
      "2       NaN     306.0      91.0       370      1332  \n",
      "3       NaN     196.0     126.0       415      1625  \n"
     ]
    }
   ],
   "source": [
    "file = r\"/Users/yinhaiyi/Desktop/all_companies_wide.xlsx\"\n",
    "\n",
    "xls = pd.ExcelFile(file)\n",
    "print(xls.sheet_names)\n",
    "\n",
    "df = pd.read_excel(file, sheet_name=\"300866\")\n",
    "print(df.head())"
   ]
  }
 ],
 "metadata": {
  "kernelspec": {
   "display_name": "base",
   "language": "python",
   "name": "python3"
  },
  "language_info": {
   "codemirror_mode": {
    "name": "ipython",
    "version": 3
   },
   "file_extension": ".py",
   "mimetype": "text/x-python",
   "name": "python",
   "nbconvert_exporter": "python",
   "pygments_lexer": "ipython3",
   "version": "3.12.7"
  }
 },
 "nbformat": 4,
 "nbformat_minor": 5
}
